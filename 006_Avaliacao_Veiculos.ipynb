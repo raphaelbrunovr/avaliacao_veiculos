{
 "cells": [
  {
   "cell_type": "markdown",
   "metadata": {},
   "source": [
    "**Informações sobre os atributos:**\n",
    "\n",
    "**Class Values:**\n",
    "\n",
    "As classes estão divididas em \n",
    "\"Unacceptable\" (unacc), \"Acceptable\" (acc),\"Good\" (good) e \"Very Good\" (vgood)\n",
    "\n",
    "**Attributes:**\n",
    "\n",
    "* buying: vhigh, high, med, low. (preço do veiculo - muito alto, alto, médio e baixo)\n",
    "* maint: vhigh, high, med, low. (preço da manutenção - muito alto, alto, médio e baixo)\n",
    "* doors: 2, 3, 4, 5more. (quantidade de portas)\n",
    "* persons: 2, 4, more. (capacidade do veiculo)\n",
    "* lug_boot: small, med, big. (tamanho do porta malas)\n",
    "* safety: low, med, high. (Segurança do veiculo) "
   ]
  },
  {
   "cell_type": "code",
   "execution_count": 1,
   "metadata": {},
   "outputs": [],
   "source": [
    "# bibliotecas utilizadas\n",
    "import pandas as pd\n",
    "import seaborn as sns\n",
    "from sklearn.neighbors import KNeighborsClassifier\n",
    "from sklearn.model_selection import train_test_split"
   ]
  },
  {
   "cell_type": "code",
   "execution_count": 2,
   "metadata": {},
   "outputs": [
    {
     "name": "stdout",
     "output_type": "stream",
     "text": [
      "      vhigh vhigh.1      2   2.1  small   low  unacc\n",
      "0     vhigh   vhigh      2     2  small   med  unacc\n",
      "1     vhigh   vhigh      2     2  small  high  unacc\n",
      "2     vhigh   vhigh      2     2    med   low  unacc\n",
      "3     vhigh   vhigh      2     2    med   med  unacc\n",
      "4     vhigh   vhigh      2     2    med  high  unacc\n",
      "...     ...     ...    ...   ...    ...   ...    ...\n",
      "1722    low     low  5more  more    med   med   good\n",
      "1723    low     low  5more  more    med  high  vgood\n",
      "1724    low     low  5more  more    big   low  unacc\n",
      "1725    low     low  5more  more    big   med   good\n",
      "1726    low     low  5more  more    big  high  vgood\n",
      "\n",
      "[1727 rows x 7 columns]\n"
     ]
    }
   ],
   "source": [
    "# carregando o arquivo csv\n",
    "carros =  pd.read_csv('datasets/car.data', sep=\",\", header=0)\n",
    "print(carros)"
   ]
  },
  {
   "cell_type": "code",
   "execution_count": 3,
   "metadata": {},
   "outputs": [],
   "source": [
    "carros.columns = ['Preco_Veiculo', 'Manutencao', 'Portas','Capacidade','Porta_Malas','Seguranca','Avaliacao']"
   ]
  },
  {
   "cell_type": "code",
   "execution_count": 4,
   "metadata": {},
   "outputs": [
    {
     "data": {
      "text/html": [
       "<div>\n",
       "<style scoped>\n",
       "    .dataframe tbody tr th:only-of-type {\n",
       "        vertical-align: middle;\n",
       "    }\n",
       "\n",
       "    .dataframe tbody tr th {\n",
       "        vertical-align: top;\n",
       "    }\n",
       "\n",
       "    .dataframe thead th {\n",
       "        text-align: right;\n",
       "    }\n",
       "</style>\n",
       "<table border=\"1\" class=\"dataframe\">\n",
       "  <thead>\n",
       "    <tr style=\"text-align: right;\">\n",
       "      <th></th>\n",
       "      <th>Preco_Veiculo</th>\n",
       "      <th>Manutencao</th>\n",
       "      <th>Portas</th>\n",
       "      <th>Capacidade</th>\n",
       "      <th>Porta_Malas</th>\n",
       "      <th>Seguranca</th>\n",
       "      <th>Avaliacao</th>\n",
       "    </tr>\n",
       "  </thead>\n",
       "  <tbody>\n",
       "    <tr>\n",
       "      <th>0</th>\n",
       "      <td>vhigh</td>\n",
       "      <td>vhigh</td>\n",
       "      <td>2</td>\n",
       "      <td>2</td>\n",
       "      <td>small</td>\n",
       "      <td>med</td>\n",
       "      <td>unacc</td>\n",
       "    </tr>\n",
       "    <tr>\n",
       "      <th>1</th>\n",
       "      <td>vhigh</td>\n",
       "      <td>vhigh</td>\n",
       "      <td>2</td>\n",
       "      <td>2</td>\n",
       "      <td>small</td>\n",
       "      <td>high</td>\n",
       "      <td>unacc</td>\n",
       "    </tr>\n",
       "    <tr>\n",
       "      <th>2</th>\n",
       "      <td>vhigh</td>\n",
       "      <td>vhigh</td>\n",
       "      <td>2</td>\n",
       "      <td>2</td>\n",
       "      <td>med</td>\n",
       "      <td>low</td>\n",
       "      <td>unacc</td>\n",
       "    </tr>\n",
       "    <tr>\n",
       "      <th>3</th>\n",
       "      <td>vhigh</td>\n",
       "      <td>vhigh</td>\n",
       "      <td>2</td>\n",
       "      <td>2</td>\n",
       "      <td>med</td>\n",
       "      <td>med</td>\n",
       "      <td>unacc</td>\n",
       "    </tr>\n",
       "    <tr>\n",
       "      <th>4</th>\n",
       "      <td>vhigh</td>\n",
       "      <td>vhigh</td>\n",
       "      <td>2</td>\n",
       "      <td>2</td>\n",
       "      <td>med</td>\n",
       "      <td>high</td>\n",
       "      <td>unacc</td>\n",
       "    </tr>\n",
       "  </tbody>\n",
       "</table>\n",
       "</div>"
      ],
      "text/plain": [
       "  Preco_Veiculo Manutencao Portas Capacidade Porta_Malas Seguranca Avaliacao\n",
       "0         vhigh      vhigh      2          2       small       med     unacc\n",
       "1         vhigh      vhigh      2          2       small      high     unacc\n",
       "2         vhigh      vhigh      2          2         med       low     unacc\n",
       "3         vhigh      vhigh      2          2         med       med     unacc\n",
       "4         vhigh      vhigh      2          2         med      high     unacc"
      ]
     },
     "execution_count": 4,
     "metadata": {},
     "output_type": "execute_result"
    }
   ],
   "source": [
    "carros.head()"
   ]
  },
  {
   "cell_type": "code",
   "execution_count": 5,
   "metadata": {},
   "outputs": [
    {
     "data": {
      "text/plain": [
       "Preco_Veiculo    0\n",
       "Manutencao       0\n",
       "Portas           0\n",
       "Capacidade       0\n",
       "Porta_Malas      0\n",
       "Seguranca        0\n",
       "Avaliacao        0\n",
       "dtype: int64"
      ]
     },
     "execution_count": 5,
     "metadata": {},
     "output_type": "execute_result"
    }
   ],
   "source": [
    "carros.isna().sum()"
   ]
  },
  {
   "cell_type": "code",
   "execution_count": 6,
   "metadata": {},
   "outputs": [
    {
     "data": {
      "text/plain": [
       "Preco_Veiculo    0\n",
       "Manutencao       0\n",
       "Portas           0\n",
       "Capacidade       0\n",
       "Porta_Malas      0\n",
       "Seguranca        0\n",
       "Avaliacao        0\n",
       "dtype: int64"
      ]
     },
     "execution_count": 6,
     "metadata": {},
     "output_type": "execute_result"
    }
   ],
   "source": [
    "carros.isnull().sum()"
   ]
  },
  {
   "cell_type": "code",
   "execution_count": 7,
   "metadata": {},
   "outputs": [],
   "source": [
    "# Separando os dados e classes\n",
    "X = carros.drop(\"Avaliacao\", axis = 1)\n",
    "y = carros.Avaliacao"
   ]
  },
  {
   "cell_type": "markdown",
   "metadata": {},
   "source": [
    "### SVM ###"
   ]
  },
  {
   "cell_type": "code",
   "execution_count": null,
   "metadata": {},
   "outputs": [],
   "source": [
    "# Aplicar SMOTE ou RandomOverSampler para balanceamento \n",
    "from imblearn.over_sampling import SMOTE\n",
    "\n",
    "X = carros.drop(\"Avaliacao\", axis = 1)\n",
    "y = carros.Avaliacao\n",
    "\n",
    "# LabelEncoder\n",
    "\n",
    "from sklearn import preprocessing\n",
    "le = preprocessing.LabelEncoder()\n",
    "\n",
    "colunas = [\"Preco_Veiculo\", \"Manutencao\",\"Portas\",\"Capacidade\", \"Porta_Malas\", \"Seguranca\"]\n",
    "\n",
    "df_col=list(colunas)\n",
    "\n",
    "for i in range(len(df_col)):\n",
    "    X[df_col[i]] = le.fit_transform(X[df_col[i]])\n",
    "    \n",
    "# SMOTE\n",
    "\n",
    "smt = SMOTE()\n",
    "X, y = smt.fit_resample(X, y)\n",
    "ax = sns.countplot(x=y)\n",
    "X_train, X_test, y_train, y_test = train_test_split(X, y, stratify=y)"
   ]
  },
  {
   "cell_type": "code",
   "execution_count": 8,
   "metadata": {},
   "outputs": [
    {
     "data": {
      "image/png": "[encoded data removed]",
      "text/plain": [
       "<Figure size 432x288 with 1 Axes>"
      ]
     },
     "metadata": {
      "needs_background": "light"
     },
     "output_type": "display_data"
    }
   ],
   "source": [
    "from imblearn.over_sampling import RandomOverSampler\n",
    "oversample = RandomOverSampler()\n",
    "\n",
    "X = carros.drop(\"Avaliacao\", axis = 1)\n",
    "y = carros.Avaliacao\n",
    "\n",
    "# Label Encoder\n",
    "\n",
    "from sklearn import preprocessing\n",
    "le = preprocessing.LabelEncoder()\n",
    "\n",
    "colunas = [\"Preco_Veiculo\", \"Manutencao\",\"Portas\",\"Capacidade\", \"Porta_Malas\", \"Seguranca\"]\n",
    "\n",
    "df_col=list(colunas)\n",
    "\n",
    "for i in range(len(df_col)):\n",
    "    X[df_col[i]] = le.fit_transform(X[df_col[i]])\n",
    "    \n",
    "# OverSample\n",
    "\n",
    "X, y = oversample.fit_resample(X, y)\n",
    "ax = sns.countplot(x=y)\n",
    "X_train, X_test, y_train, y_test = train_test_split(X, y, stratify=y)"
   ]
  },
  {
   "cell_type": "code",
   "execution_count": 9,
   "metadata": {},
   "outputs": [],
   "source": [
    "from sklearn import svm\n",
    "clf = svm.SVC().fit(X_train,y_train)"
   ]
  },
  {
   "cell_type": "code",
   "execution_count": 10,
   "metadata": {},
   "outputs": [],
   "source": [
    "predicao = clf.predict(X_test)"
   ]
  },
  {
   "cell_type": "code",
   "execution_count": 11,
   "metadata": {},
   "outputs": [
    {
     "name": "stdout",
     "output_type": "stream",
     "text": [
      "              precision    recall  f1-score   support\n",
      "\n",
      "         acc       0.96      0.98      0.97       302\n",
      "        good       0.99      1.00      0.99       303\n",
      "       unacc       1.00      0.96      0.98       302\n",
      "       vgood       1.00      1.00      1.00       302\n",
      "\n",
      "    accuracy                           0.99      1209\n",
      "   macro avg       0.99      0.99      0.99      1209\n",
      "weighted avg       0.99      0.99      0.99      1209\n",
      "\n"
     ]
    }
   ],
   "source": [
    "from sklearn.metrics import accuracy_score, confusion_matrix, classification_report\n",
    "print (classification_report(y_test, predicao))"
   ]
  },
  {
   "cell_type": "code",
   "execution_count": 12,
   "metadata": {},
   "outputs": [
    {
     "name": "stdout",
     "output_type": "stream",
     "text": [
      "Confusion Matrix\n"
     ]
    },
    {
     "data": {
      "image/png": "[encoded data removed]",
      "text/plain": [
       "<Figure size 432x288 with 2 Axes>"
      ]
     },
     "metadata": {
      "needs_background": "light"
     },
     "output_type": "display_data"
    }
   ],
   "source": [
    "from sklearn import metrics\n",
    "import matplotlib.pyplot as plt\n",
    "disp = metrics.plot_confusion_matrix(clf,X_test,y_test)\n",
    "disp.figure_.suptitle('Confusion Matrix')\n",
    "print('Confusion Matrix')\n",
    "plt.show()"
   ]
  },
  {
   "cell_type": "markdown",
   "metadata": {},
   "source": [
    "### Tunning SVM ###"
   ]
  },
  {
   "cell_type": "code",
   "execution_count": null,
   "metadata": {},
   "outputs": [
    {
     "name": "stdout",
     "output_type": "stream",
     "text": [
      "Fitting 5 folds for each of 27 candidates, totalling 135 fits\n",
      "[CV] END .........................C=0.1, gamma=1, kernel=rbf; total time=   0.4s\n",
      "[CV] END .........................C=0.1, gamma=1, kernel=rbf; total time=   0.4s\n",
      "[CV] END .........................C=0.1, gamma=1, kernel=rbf; total time=   0.6s\n",
      "[CV] END .........................C=0.1, gamma=1, kernel=rbf; total time=   0.4s\n",
      "[CV] END .........................C=0.1, gamma=1, kernel=rbf; total time=   0.4s\n",
      "[CV] END ........................C=0.1, gamma=1, kernel=poly; total time=   1.3s\n",
      "[CV] END ........................C=0.1, gamma=1, kernel=poly; total time=   1.9s\n",
      "[CV] END ........................C=0.1, gamma=1, kernel=poly; total time=   1.4s\n",
      "[CV] END ........................C=0.1, gamma=1, kernel=poly; total time=   1.3s\n",
      "[CV] END ........................C=0.1, gamma=1, kernel=poly; total time=   1.8s\n",
      "[CV] END .....................C=0.1, gamma=1, kernel=sigmoid; total time=   0.7s\n",
      "[CV] END .....................C=0.1, gamma=1, kernel=sigmoid; total time=   0.7s\n",
      "[CV] END .....................C=0.1, gamma=1, kernel=sigmoid; total time=   0.7s\n",
      "[CV] END .....................C=0.1, gamma=1, kernel=sigmoid; total time=   0.7s\n",
      "[CV] END .....................C=0.1, gamma=1, kernel=sigmoid; total time=   0.8s\n",
      "[CV] END .......................C=0.1, gamma=0.1, kernel=rbf; total time=   0.4s\n",
      "[CV] END .......................C=0.1, gamma=0.1, kernel=rbf; total time=   0.4s\n",
      "[CV] END .......................C=0.1, gamma=0.1, kernel=rbf; total time=   0.4s\n",
      "[CV] END .......................C=0.1, gamma=0.1, kernel=rbf; total time=   0.5s\n",
      "[CV] END .......................C=0.1, gamma=0.1, kernel=rbf; total time=   0.4s\n",
      "[CV] END ......................C=0.1, gamma=0.1, kernel=poly; total time=   0.2s\n",
      "[CV] END ......................C=0.1, gamma=0.1, kernel=poly; total time=   0.2s\n",
      "[CV] END ......................C=0.1, gamma=0.1, kernel=poly; total time=   0.2s\n",
      "[CV] END ......................C=0.1, gamma=0.1, kernel=poly; total time=   0.1s\n",
      "[CV] END ......................C=0.1, gamma=0.1, kernel=poly; total time=   0.2s\n",
      "[CV] END ...................C=0.1, gamma=0.1, kernel=sigmoid; total time=   0.5s\n",
      "[CV] END ...................C=0.1, gamma=0.1, kernel=sigmoid; total time=   0.5s\n",
      "[CV] END ...................C=0.1, gamma=0.1, kernel=sigmoid; total time=   0.5s\n",
      "[CV] END ...................C=0.1, gamma=0.1, kernel=sigmoid; total time=   0.5s\n",
      "[CV] END ...................C=0.1, gamma=0.1, kernel=sigmoid; total time=   0.5s\n",
      "[CV] END ......................C=0.1, gamma=0.01, kernel=rbf; total time=   0.7s\n",
      "[CV] END ......................C=0.1, gamma=0.01, kernel=rbf; total time=   0.6s\n",
      "[CV] END ......................C=0.1, gamma=0.01, kernel=rbf; total time=   0.7s\n",
      "[CV] END ......................C=0.1, gamma=0.01, kernel=rbf; total time=   0.6s\n",
      "[CV] END ......................C=0.1, gamma=0.01, kernel=rbf; total time=   0.6s\n",
      "[CV] END .....................C=0.1, gamma=0.01, kernel=poly; total time=   0.5s\n",
      "[CV] END .....................C=0.1, gamma=0.01, kernel=poly; total time=   0.3s\n",
      "[CV] END .....................C=0.1, gamma=0.01, kernel=poly; total time=   0.3s\n",
      "[CV] END .....................C=0.1, gamma=0.01, kernel=poly; total time=   0.4s\n",
      "[CV] END .....................C=0.1, gamma=0.01, kernel=poly; total time=   0.3s\n",
      "[CV] END ..................C=0.1, gamma=0.01, kernel=sigmoid; total time=   0.6s\n",
      "[CV] END ..................C=0.1, gamma=0.01, kernel=sigmoid; total time=   0.4s\n",
      "[CV] END ..................C=0.1, gamma=0.01, kernel=sigmoid; total time=   0.4s\n",
      "[CV] END ..................C=0.1, gamma=0.01, kernel=sigmoid; total time=   0.4s\n",
      "[CV] END ..................C=0.1, gamma=0.01, kernel=sigmoid; total time=   0.4s\n",
      "[CV] END ...........................C=1, gamma=1, kernel=rbf; total time=   0.3s\n",
      "[CV] END ...........................C=1, gamma=1, kernel=rbf; total time=   0.3s\n",
      "[CV] END ...........................C=1, gamma=1, kernel=rbf; total time=   0.3s\n",
      "[CV] END ...........................C=1, gamma=1, kernel=rbf; total time=   0.3s\n",
      "[CV] END ...........................C=1, gamma=1, kernel=rbf; total time=   0.3s\n",
      "[CV] END ..........................C=1, gamma=1, kernel=poly; total time=  14.1s\n",
      "[CV] END ..........................C=1, gamma=1, kernel=poly; total time=  22.8s\n",
      "[CV] END ..........................C=1, gamma=1, kernel=poly; total time=   9.8s\n",
      "[CV] END ..........................C=1, gamma=1, kernel=poly; total time=  16.9s\n",
      "[CV] END ..........................C=1, gamma=1, kernel=poly; total time=  17.1s\n",
      "[CV] END .......................C=1, gamma=1, kernel=sigmoid; total time=   0.6s\n",
      "[CV] END .......................C=1, gamma=1, kernel=sigmoid; total time=   0.6s\n",
      "[CV] END .......................C=1, gamma=1, kernel=sigmoid; total time=   0.6s\n",
      "[CV] END .......................C=1, gamma=1, kernel=sigmoid; total time=   0.6s\n",
      "[CV] END .......................C=1, gamma=1, kernel=sigmoid; total time=   0.7s\n",
      "[CV] END .........................C=1, gamma=0.1, kernel=rbf; total time=   0.2s\n",
      "[CV] END .........................C=1, gamma=0.1, kernel=rbf; total time=   0.2s\n",
      "[CV] END .........................C=1, gamma=0.1, kernel=rbf; total time=   0.2s\n",
      "[CV] END .........................C=1, gamma=0.1, kernel=rbf; total time=   0.2s\n",
      "[CV] END .........................C=1, gamma=0.1, kernel=rbf; total time=   2.1s\n",
      "[CV] END ........................C=1, gamma=0.1, kernel=poly; total time=   0.1s\n",
      "[CV] END ........................C=1, gamma=0.1, kernel=poly; total time=   0.1s\n",
      "[CV] END ........................C=1, gamma=0.1, kernel=poly; total time=   0.1s\n",
      "[CV] END ........................C=1, gamma=0.1, kernel=poly; total time=   0.1s\n",
      "[CV] END ........................C=1, gamma=0.1, kernel=poly; total time=   0.1s\n",
      "[CV] END .....................C=1, gamma=0.1, kernel=sigmoid; total time=   0.5s\n",
      "[CV] END .....................C=1, gamma=0.1, kernel=sigmoid; total time=   0.3s\n",
      "[CV] END .....................C=1, gamma=0.1, kernel=sigmoid; total time=   0.3s\n",
      "[CV] END .....................C=1, gamma=0.1, kernel=sigmoid; total time=   0.3s\n",
      "[CV] END .....................C=1, gamma=0.1, kernel=sigmoid; total time=   0.3s\n",
      "[CV] END ........................C=1, gamma=0.01, kernel=rbf; total time=   3.5s\n",
      "[CV] END ........................C=1, gamma=0.01, kernel=rbf; total time=   3.6s\n"
     ]
    }
   ],
   "source": [
    "from sklearn.model_selection import GridSearchCV\n",
    "param_grid = {'C': [0.1,1, 10], 'gamma': [1,0.1,0.01],'kernel': ['rbf', 'poly', 'sigmoid']}\n",
    "grid_svm = GridSearchCV(svm.SVC(),param_grid,refit=True,verbose=2)\n",
    "grid_svm.fit(X_train,y_train)"
   ]
  },
  {
   "cell_type": "code",
   "execution_count": null,
   "metadata": {},
   "outputs": [],
   "source": [
    "predicao = grid_svm.predict(X_test)"
   ]
  },
  {
   "cell_type": "code",
   "execution_count": null,
   "metadata": {},
   "outputs": [],
   "source": [
    "from sklearn.metrics import accuracy_score, confusion_matrix, classification_report\n",
    "print (classification_report(y_test, predicao))"
   ]
  },
  {
   "cell_type": "code",
   "execution_count": null,
   "metadata": {},
   "outputs": [],
   "source": [
    "from sklearn import metrics\n",
    "import matplotlib.pyplot as plt\n",
    "disp = metrics.plot_confusion_matrix(grid_svm,X_test,y_test)\n",
    "disp.figure_.suptitle('Confusion Matrix')\n",
    "print('Confusion Matrix')\n",
    "plt.show()"
   ]
  },
  {
   "cell_type": "markdown",
   "metadata": {},
   "source": [
    "### Final ###"
   ]
  },
  {
   "cell_type": "code",
   "execution_count": null,
   "metadata": {},
   "outputs": [],
   "source": [
    "carros.head()"
   ]
  },
  {
   "cell_type": "code",
   "execution_count": null,
   "metadata": {},
   "outputs": [],
   "source": [
    "#Criando um dataframe final - Melhores resultados com SVM e utilizando a tecnica RandomOverSampling\n",
    "final = carros.drop(\"Avaliacao\", axis = 1)\n",
    "\n",
    "# LabelEncoder\n",
    "\n",
    "from sklearn import preprocessing\n",
    "le = preprocessing.LabelEncoder()\n",
    "\n",
    "colunas = [\"Preco_Veiculo\", \"Manutencao\",\"Portas\",\"Capacidade\", \"Porta_Malas\", \"Seguranca\"]\n",
    "\n",
    "df_col=list(colunas)\n",
    "\n",
    "for i in range(len(df_col)):\n",
    "    final[df_col[i]] = le.fit_transform(final[df_col[i]])\n",
    "final.head()"
   ]
  },
  {
   "cell_type": "code",
   "execution_count": null,
   "metadata": {},
   "outputs": [],
   "source": [
    "predicao = grid_svm.predict(final)"
   ]
  },
  {
   "cell_type": "code",
   "execution_count": null,
   "metadata": {},
   "outputs": [],
   "source": [
    "final['Avaliacao'] = predicao"
   ]
  },
  {
   "cell_type": "code",
   "execution_count": null,
   "metadata": {},
   "outputs": [],
   "source": [
    "# Muito alto, alto, médio e baixo\n",
    "decode_col = {\"Preco_Veiculo\":     {0: \"Baixo\", 1: \"Médio\", 2: \"Alto\", 3: \"Muito Alto\"},\n",
    "                    \"Manutencao\":  {0: \"Baixo\", 1: \"Médio\", 2: \"Alto\", 3: \"Muito Alto\"},\n",
    "                    \"Portas\":  {0: \"2 portas\", 1: \"3 portas\", 2: \"4 portas\", 3: \"+5 portas\"},\n",
    "                    \"Capacidade\": {0: \"2 pessoas\", 1: \"4 pessoas\", 2: \"+4 pessoas\"},\n",
    "                    \"Porta_Malas\": {0: \"Grande\", 1: \"Médio\", 2: \"Pequeno\"},\n",
    "                    \"Seguranca\": {0: \"Alta\", 1: \"Média\", 2: \"Baixa\"},\n",
    "                    \"Avaliacao\": {\"unacc\": \"Inaceitável\", \"acc\": \"Aceitável\", \"good\": \"Boa\", \"vgood\": \"Muito boa\"}}"
   ]
  },
  {
   "cell_type": "code",
   "execution_count": null,
   "metadata": {},
   "outputs": [],
   "source": [
    "dataset_final = final.replace(decode_col)\n",
    "dataset_final.head()"
   ]
  },
  {
   "cell_type": "code",
   "execution_count": null,
   "metadata": {},
   "outputs": [],
   "source": [
    "# Grande parte do modelo previsto possui veiculos em condições inaceitáveis ou aceitáveis\n",
    "sns.countplot(x = 'Avaliacao', data = dataset_final,\n",
    "             order = dataset_final['Avaliacao'].value_counts().index)"
   ]
  },
  {
   "cell_type": "code",
   "execution_count": null,
   "metadata": {},
   "outputs": [],
   "source": [
    "# Exportando a base finalizada\n",
    "dataset_final.to_csv('datasets/resultados_previstos.csv', sep=';', encoding='iso-8859-1')"
   ]
  }
 ],
 "metadata": {
  "kernelspec": {
   "display_name": "Python 3",
   "language": "python",
   "name": "python3"
  },
  "language_info": {
   "codemirror_mode": {
    "name": "ipython",
    "version": 3
   },
   "file_extension": ".py",
   "mimetype": "text/x-python",
   "name": "python",
   "nbconvert_exporter": "python",
   "pygments_lexer": "ipython3",
   "version": "3.7.7"
  }
 },
 "nbformat": 4,
 "nbformat_minor": 4
}
